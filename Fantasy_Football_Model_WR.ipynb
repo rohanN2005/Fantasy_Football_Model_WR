{
  "nbformat": 4,
  "nbformat_minor": 0,
  "metadata": {
    "colab": {
      "provenance": [],
      "authorship_tag": "ABX9TyMgRHsIIC8qpmHvUuJVZjZj",
      "include_colab_link": true
    },
    "kernelspec": {
      "name": "python3",
      "display_name": "Python 3"
    },
    "language_info": {
      "name": "python"
    }
  },
  "cells": [
    {
      "cell_type": "markdown",
      "metadata": {
        "id": "view-in-github",
        "colab_type": "text"
      },
      "source": [
        "<a href=\"https://colab.research.google.com/github/rohanN2005/Fantasy_Football_Model_WR/blob/main/Fantasy_Football_Model_WR.ipynb\" target=\"_parent\"><img src=\"https://colab.research.google.com/assets/colab-badge.svg\" alt=\"Open In Colab\"/></a>"
      ]
    },
    {
      "cell_type": "code",
      "execution_count": 29,
      "metadata": {
        "id": "13bgYueJmbJk",
        "collapsed": true
      },
      "outputs": [],
      "source": [
        "import pandas as pd\n",
        "from sklearn.metrics import mean_absolute_error\n",
        "from sklearn.model_selection import train_test_split\n",
        "from sklearn.tree import DecisionTreeRegressor\n",
        "from google.colab import drive\n",
        "\n",
        "WR_Data_Filepath = \"/content/FantasyPros_Fantasy_Football_Statistics_WR - FantasyPros_Fantasy_Football_Statistics_WR.csv\"\n",
        "WR_Data = pd.read_csv(WR_Data_Filepath, nrows = 50)"
      ]
    },
    {
      "cell_type": "code",
      "source": [
        "y = WR_Data.FPTS\n",
        "features = ['REC','TGT','YDS','20+','TD','G']\n",
        "X = WR_Data[features]\n",
        "train_X, val_X, train_y, val_y = train_test_split(X,y, random_state = 1)\n",
        "WR_model = DecisionTreeRegressor(random_state = 1)\n",
        "WR_model.fit(train_X, train_y)\n",
        "val_predictions = WR_model.predict(val_X)\n",
        "val_mae = mean_absolute_error(val_predictions, val_y)"
      ],
      "metadata": {
        "id": "9lbdvtfTjW7W"
      },
      "execution_count": 36,
      "outputs": []
    },
    {
      "cell_type": "markdown",
      "source": [],
      "metadata": {
        "id": "AysJRjUut27U"
      }
    }
  ]
}