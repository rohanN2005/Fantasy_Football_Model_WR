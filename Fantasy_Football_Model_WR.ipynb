{
  "nbformat": 4,
  "nbformat_minor": 0,
  "metadata": {
    "colab": {
      "provenance": [],
      "authorship_tag": "ABX9TyNeyPm1j8jLvZycEIwLDYcn",
      "include_colab_link": true
    },
    "kernelspec": {
      "name": "python3",
      "display_name": "Python 3"
    },
    "language_info": {
      "name": "python"
    }
  },
  "cells": [
    {
      "cell_type": "markdown",
      "metadata": {
        "id": "view-in-github",
        "colab_type": "text"
      },
      "source": [
        "<a href=\"https://colab.research.google.com/github/rohanN2005/Fantasy_Football_Model_WR/blob/main/Fantasy_Football_Model_WR.ipynb\" target=\"_parent\"><img src=\"https://colab.research.google.com/assets/colab-badge.svg\" alt=\"Open In Colab\"/></a>"
      ]
    },
    {
      "cell_type": "code",
      "execution_count": 7,
      "metadata": {
        "id": "13bgYueJmbJk",
        "collapsed": true
      },
      "outputs": [],
      "source": [
        "import pandas as pd\n",
        "from sklearn.metrics import mean_absolute_error\n",
        "from sklearn.model_selection import train_test_split\n",
        "from sklearn.tree import DecisionTreeRegressor\n",
        "from google.colab import drive\n",
        "\n",
        "WR_Data_Filepath = \"/content/FantasyPros_Fantasy_Football_Statistics_WR - FantasyPros_Fantasy_Football_Statistics_WR.csv\"\n",
        "WR_Data = pd.read_csv(WR_Data_Filepath, nrows = 135)"
      ]
    },
    {
      "cell_type": "code",
      "source": [
        "from google.colab import drive\n",
        "drive.mount('/content/drive')"
      ],
      "metadata": {
        "id": "RqkaN0A6mNR7"
      },
      "execution_count": null,
      "outputs": []
    },
    {
      "cell_type": "code",
      "source": [
        "y = WR_Data.FPTS\n",
        "features = ['REC','TGT','YDS','20+','TD','G']\n",
        "X = WR_Data[features]\n",
        "train_X, val_X, train_y, val_y = train_test_split(X,y, random_state = 1)\n",
        "'''max_leaf_nodes = [30,31,32,33]\n",
        "\n",
        "def optimize_mae(max_leaf_nodes, train_X, train_y, val_X, val_y):\n",
        "    for i in max_leaf_nodes:\n",
        "      WR_model = DecisionTreeRegressor(random_state = 1, max_leaf_nodes = i)\n",
        "      WR_model.fit(train_X, train_y)\n",
        "      val_predictions = WR_model.predict(val_X)\n",
        "      val_mae = mean_absolute_error(val_predictions, val_y)\n",
        "      print(val_mae)\n",
        "\n",
        "optimized = optimize_mae(max_leaf_nodes, train_X, train_y, val_X, val_y)'''\n",
        "\n",
        "WR_model = DecisionTreeRegressor(random_state = 1, max_leaf_nodes = 30)\n",
        "WR_model.fit(X, y)\n",
        "val_predictions = WR_model.predict(X)\n",
        "val_mae = mean_absolute_error(val_predictions, y)\n",
        "print(val_mae)"
      ],
      "metadata": {
        "colab": {
          "base_uri": "https://localhost:8080/"
        },
        "id": "9lbdvtfTjW7W",
        "outputId": "4eefc1cb-7265-49d6-e0e4-bccfc7e3504a"
      },
      "execution_count": 12,
      "outputs": [
        {
          "output_type": "stream",
          "name": "stdout",
          "text": [
            "3.170832709290226\n"
          ]
        }
      ]
    },
    {
      "cell_type": "markdown",
      "source": [],
      "metadata": {
        "id": "AysJRjUut27U"
      }
    }
  ]
}